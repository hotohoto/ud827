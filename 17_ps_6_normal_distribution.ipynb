{
 "cells": [
  {
   "cell_type": "markdown",
   "metadata": {},
   "source": [
    "### 17 PS 6 Normal Distribution"
   ]
  },
  {
   "cell_type": "code",
   "execution_count": 43,
   "metadata": {},
   "outputs": [],
   "source": [
    "import scipy.stats\n",
    "import math"
   ]
  },
  {
   "cell_type": "code",
   "execution_count": 44,
   "metadata": {},
   "outputs": [
    {
     "name": "stdout",
     "output_type": "stream",
     "text": [
      "1.8513044471565867\n"
     ]
    }
   ],
   "source": [
    "# 2\n",
    "mu = 122\n",
    "x = 120\n",
    "\n",
    "z = scipy.stats.norm(0, 1).ppf(.14)\n",
    "sigma = (x - mu) / z\n",
    "print(sigma)"
   ]
  },
  {
   "cell_type": "code",
   "execution_count": 45,
   "metadata": {},
   "outputs": [
    {
     "name": "stdout",
     "output_type": "stream",
     "text": [
      "0.4012936743170763\n"
     ]
    }
   ],
   "source": [
    "# 3\n",
    "mu = 60\n",
    "sigma = 40\n",
    "\n",
    "p = scipy.stats.norm(mu, sigma).cdf(50)\n",
    "\n",
    "print(p)"
   ]
  },
  {
   "cell_type": "code",
   "execution_count": 46,
   "metadata": {},
   "outputs": [
    {
     "name": "stdout",
     "output_type": "stream",
     "text": [
      "0.19146246127401312\n"
     ]
    }
   ],
   "source": [
    "# 4\n",
    "mu = 60\n",
    "sigma = 40\n",
    "\n",
    "p1 = scipy.stats.norm(mu, sigma).cdf(60)\n",
    "p2 = scipy.stats.norm(mu, sigma).cdf(80)\n",
    "\n",
    "print(p2 - p1)"
   ]
  },
  {
   "cell_type": "code",
   "execution_count": 47,
   "metadata": {},
   "outputs": [
    {
     "name": "stdout",
     "output_type": "stream",
     "text": [
      "125794.1450780589\n"
     ]
    }
   ],
   "source": [
    "# 5\n",
    "mu = 60\n",
    "sigma = 40\n",
    "\n",
    "x = scipy.stats.norm(mu, sigma).ppf(.95)\n",
    "\n",
    "print(x * 1000)"
   ]
  },
  {
   "cell_type": "code",
   "execution_count": 56,
   "metadata": {},
   "outputs": [
    {
     "name": "stdout",
     "output_type": "stream",
     "text": [
      "19123\n",
      "19117\n"
     ]
    }
   ],
   "source": [
    "# 6\n",
    "N = 120500\n",
    "mu = 60\n",
    "sigma = 40\n",
    "\n",
    "# from z-table\n",
    "p1 = 1 - 0.8413\n",
    "print(math.floor(p1 * N))\n",
    "\n",
    "# to be more precise\n",
    "p2 = 1 - scipy.stats.norm(mu, sigma).cdf(100)\n",
    "print(math.floor(p2 * N))"
   ]
  },
  {
   "cell_type": "code",
   "execution_count": 63,
   "metadata": {},
   "outputs": [
    {
     "name": "stdout",
     "output_type": "stream",
     "text": [
      "0.31\n"
     ]
    }
   ],
   "source": [
    "# 7\n",
    "\n",
    "mu = 100\n",
    "sigma = 16\n",
    "\n",
    "p = 1- scipy.stats.norm(mu, sigma).cdf(108)\n",
    "print(round(p, 2))"
   ]
  },
  {
   "cell_type": "code",
   "execution_count": 64,
   "metadata": {},
   "outputs": [
    {
     "name": "stdout",
     "output_type": "stream",
     "text": [
      "0.07\n"
     ]
    }
   ],
   "source": [
    "# 8\n",
    "\n",
    "mu = 100\n",
    "sigma = 16\n",
    "\n",
    "p = scipy.stats.norm(mu, sigma).cdf(76)\n",
    "print(round(p, 2))"
   ]
  },
  {
   "cell_type": "code",
   "execution_count": 66,
   "metadata": {},
   "outputs": [
    {
     "name": "stdout",
     "output_type": "stream",
     "text": [
      "0.7745375447996848\n"
     ]
    }
   ],
   "source": [
    "# 9\n",
    "\n",
    "mu = 80\n",
    "sigma = 10\n",
    "\n",
    "p1 = scipy.stats.norm(mu, sigma).cdf(65)\n",
    "p2 = scipy.stats.norm(mu, sigma).cdf(90)\n",
    "print(p2 - p1)"
   ]
  },
  {
   "cell_type": "code",
   "execution_count": 67,
   "metadata": {},
   "outputs": [
    {
     "name": "stdout",
     "output_type": "stream",
     "text": [
      "0.4331927987311419\n"
     ]
    }
   ],
   "source": [
    "# 10\n",
    "\n",
    "mu = 80\n",
    "sigma = 10\n",
    "\n",
    "p1 = scipy.stats.norm(mu, sigma).cdf(80)\n",
    "p2 = scipy.stats.norm(mu, sigma).cdf(95)\n",
    "print(p2 - p1)"
   ]
  },
  {
   "cell_type": "code",
   "execution_count": 69,
   "metadata": {},
   "outputs": [
    {
     "name": "stdout",
     "output_type": "stream",
     "text": [
      "130.48801025416083\n"
     ]
    }
   ],
   "source": [
    "# 11\n",
    "\n",
    "mu = 120\n",
    "sigma = 20\n",
    "\n",
    "x = scipy.stats.norm(mu, sigma).ppf(1 - .3)\n",
    "print(x)"
   ]
  },
  {
   "cell_type": "code",
   "execution_count": 74,
   "metadata": {},
   "outputs": [
    {
     "name": "stdout",
     "output_type": "stream",
     "text": [
      "0.0505\n"
     ]
    }
   ],
   "source": [
    "# 12\n",
    "\n",
    "p = scipy.stats.norm(0, 1).cdf(1.64)\n",
    "print(round(1 - p, 4))"
   ]
  },
  {
   "cell_type": "code",
   "execution_count": 75,
   "metadata": {},
   "outputs": [
    {
     "name": "stdout",
     "output_type": "stream",
     "text": [
      "0.0099\n"
     ]
    }
   ],
   "source": [
    "# 13\n",
    "\n",
    "p = scipy.stats.norm(0, 1).cdf(-2.33)\n",
    "print(round(p, 4))"
   ]
  },
  {
   "cell_type": "code",
   "execution_count": 78,
   "metadata": {},
   "outputs": [
    {
     "name": "stdout",
     "output_type": "stream",
     "text": [
      "0.25\n"
     ]
    }
   ],
   "source": [
    "# 14\n",
    "\n",
    "z = scipy.stats.norm(0, 1).ppf(.6)\n",
    "print(round(z, 2))"
   ]
  },
  {
   "cell_type": "code",
   "execution_count": 81,
   "metadata": {},
   "outputs": [
    {
     "name": "stdout",
     "output_type": "stream",
     "text": [
      "-0.44\n",
      "0.15865525393145707\n"
     ]
    }
   ],
   "source": [
    "# 15\n",
    "\n",
    "z = scipy.stats.norm(0, 1).ppf(.33)\n",
    "print(round(z, 2))\n",
    "p = scipy.stats.norm(0, 1).cdf(-1)\n",
    "print(p)"
   ]
  }
 ],
 "metadata": {
  "kernelspec": {
   "display_name": "Python 3",
   "language": "python",
   "name": "python3"
  },
  "language_info": {
   "codemirror_mode": {
    "name": "ipython",
    "version": 3
   },
   "file_extension": ".py",
   "mimetype": "text/x-python",
   "name": "python",
   "nbconvert_exporter": "python",
   "pygments_lexer": "ipython3",
   "version": "3.6.0"
  }
 },
 "nbformat": 4,
 "nbformat_minor": 2
}
