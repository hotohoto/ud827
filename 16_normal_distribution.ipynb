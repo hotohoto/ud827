{
 "cells": [
  {
   "cell_type": "markdown",
   "metadata": {},
   "source": [
    "### 16 Normal Distribution"
   ]
  },
  {
   "cell_type": "code",
   "execution_count": 20,
   "metadata": {},
   "outputs": [],
   "source": [
    "import scipy.stats"
   ]
  },
  {
   "cell_type": "code",
   "execution_count": 18,
   "metadata": {},
   "outputs": [
    {
     "name": "stdout",
     "output_type": "stream",
     "text": [
      "0.0477903522728147\n"
     ]
    }
   ],
   "source": [
    "# 17\n",
    "mu = 13\n",
    "sigma = 4.8\n",
    "z = (5 - mu) / sigma\n",
    "v = scipy.stats.norm(0, 1).cdf(z)\n",
    "print(v)"
   ]
  },
  {
   "cell_type": "code",
   "execution_count": 19,
   "metadata": {},
   "outputs": [
    {
     "name": "stdout",
     "output_type": "stream",
     "text": [
      "0.07237434330149783\n"
     ]
    }
   ],
   "source": [
    "# 18\n",
    "mu = 13\n",
    "sigma = 4.8\n",
    "z = (20 - mu) / sigma\n",
    "v = scipy.stats.norm(0, 1).cdf(z)\n",
    "x = 1 - v\n",
    "print(x)"
   ]
  },
  {
   "cell_type": "code",
   "execution_count": 21,
   "metadata": {},
   "outputs": [
    {
     "name": "stdout",
     "output_type": "stream",
     "text": [
      "0.4680289419025989\n"
     ]
    }
   ],
   "source": [
    "# 19\n",
    "\n",
    "mu = 13\n",
    "sigma = 4.8\n",
    "z1 = (10 - mu) / sigma\n",
    "z2 = (16 - mu) / sigma\n",
    "v1 = scipy.stats.norm(0, 1).cdf(z1)\n",
    "v2 = scipy.stats.norm(0, 1).cdf(z2)\n",
    "x = v2 - v1\n",
    "print(x)"
   ]
  },
  {
   "cell_type": "code",
   "execution_count": 23,
   "metadata": {},
   "outputs": [
    {
     "name": "stdout",
     "output_type": "stream",
     "text": [
      "20.895297409367068\n"
     ]
    }
   ],
   "source": [
    "# 20\n",
    "mu = 13\n",
    "sigma = 4.8\n",
    "\n",
    "z = scipy.stats.norm(0, 1).ppf(.95)\n",
    "x = z * sigma + mu\n",
    "print(x)"
   ]
  }
 ],
 "metadata": {
  "kernelspec": {
   "display_name": "Python 3",
   "language": "python",
   "name": "python3"
  },
  "language_info": {
   "codemirror_mode": {
    "name": "ipython",
    "version": 3
   },
   "file_extension": ".py",
   "mimetype": "text/x-python",
   "name": "python",
   "nbconvert_exporter": "python",
   "pygments_lexer": "ipython3",
   "version": "3.6.0"
  }
 },
 "nbformat": 4,
 "nbformat_minor": 2
}
