{
 "cells": [
  {
   "cell_type": "markdown",
   "metadata": {},
   "source": [
    "### 18 Sampling Distributions"
   ]
  },
  {
   "cell_type": "code",
   "execution_count": 1,
   "metadata": {},
   "outputs": [],
   "source": [
    "import scipy.stats\n",
    "import math\n",
    "import numpy as np\n",
    "import pandas as pd"
   ]
  },
  {
   "cell_type": "code",
   "execution_count": 2,
   "metadata": {},
   "outputs": [
    {
     "name": "stdout",
     "output_type": "stream",
     "text": [
      "0.375\n"
     ]
    }
   ],
   "source": [
    "# 2\n",
    "print(6/16)\n"
   ]
  },
  {
   "cell_type": "code",
   "execution_count": 3,
   "metadata": {},
   "outputs": [
    {
     "name": "stdout",
     "output_type": "stream",
     "text": [
      "1.0\n",
      "1.5\n",
      "2.0\n",
      "2.5\n",
      "1.5\n",
      "2.0\n",
      "2.5\n",
      "3.0\n",
      "2.0\n",
      "2.5\n",
      "3.0\n",
      "3.5\n",
      "2.5\n",
      "3.0\n",
      "3.5\n",
      "4.0\n",
      "2.5\n"
     ]
    }
   ],
   "source": [
    "# 5\n",
    "x_bar_sum = 0\n",
    "for i in range(4):\n",
    "    for j in range(4):\n",
    "        x_bar = (i + 1 + j + 1) /2\n",
    "        x_bar_sum += x_bar\n",
    "#         print(i, j, x_bar, x_bar_sum)\n",
    "        print(x_bar)\n",
    "        \n",
    "print (x_bar_sum / (4*4))"
   ]
  },
  {
   "cell_type": "code",
   "execution_count": 4,
   "metadata": {},
   "outputs": [
    {
     "name": "stdout",
     "output_type": "stream",
     "text": [
      "N (population size): 4\n",
      "n (sample size): 2\n",
      "mu: 2.5\n",
      "sigma: 1.118033988749895\n",
      "M: 2.5\n",
      "SE: 0.7905694150420949\n",
      "sigma/SE: 1.414213562373095\n"
     ]
    }
   ],
   "source": [
    "# tetrahedral die\n",
    "\n",
    "# population\n",
    "pop = [i + 1 for i in range(4)]\n",
    "N = len(pop)\n",
    "print('N (population size):', N)\n",
    "\n",
    "# sample size\n",
    "n = 2\n",
    "print('n (sample size):', n)\n",
    "\n",
    "# population mean\n",
    "mu = sum(pop) / N\n",
    "print('mu:', mu)\n",
    "\n",
    "s = 0\n",
    "for i in pop:\n",
    "    s += (i - mu)**2\n",
    "sigma = (s/len(pop))**0.5\n",
    "print('sigma:', sigma)\n",
    "    \n",
    "M = mu\n",
    "print('M:', M)\n",
    "\n",
    "def move_idx (_idx, pop_len):\n",
    "    _n = len(_idx)\n",
    "    for i in range(_n):\n",
    "        if _idx[_n - 1 - i] < pop_len - 1:\n",
    "            _idx[_n - 1 - i] = _idx[_n - 1 - i] + 1\n",
    "            return False\n",
    "        else:\n",
    "            _idx[_n - 1 - i] = 0\n",
    "    return True\n",
    "            \n",
    "idx = [0] * n\n",
    "s = 0\n",
    "while True:\n",
    "    _s = 0\n",
    "    for i in idx:\n",
    "        _s += pop[i]\n",
    "    sample_mean = _s / n\n",
    "    s += (sample_mean - M)**2\n",
    "\n",
    "    end = move_idx(idx, N)\n",
    "    if end:\n",
    "        break\n",
    "\n",
    "SE = (s/(len(pop)**n))**0.5\n",
    "\n",
    "print('SE:', SE)\n",
    "print('sigma/SE:', sigma/SE)"
   ]
  },
  {
   "cell_type": "code",
   "execution_count": 5,
   "metadata": {},
   "outputs": [
    {
     "name": "stdout",
     "output_type": "stream",
     "text": [
      "population [1 2 3 4 5 6]\n",
      "mu 3.5\n",
      "sigma 1.707825127659933\n",
      "SE 1.2076147288491197\n"
     ]
    }
   ],
   "source": [
    "#17\n",
    "pop = np.array(range(6)) + 1\n",
    "print('population', pop)\n",
    "mu = np.average(pop)\n",
    "print('mu', mu)\n",
    "sigma = (np.sum((pop-mu)**2)/6)**0.5\n",
    "print('sigma', sigma)\n",
    "SE = sigma / (2**0.5)\n",
    "print('SE', SE)\n"
   ]
  },
  {
   "cell_type": "code",
   "execution_count": 6,
   "metadata": {},
   "outputs": [
    {
     "name": "stdout",
     "output_type": "stream",
     "text": [
      "population [1 2 3 4 5 6]\n",
      "mu 3.5\n",
      "sigma 1.707825127659933\n",
      "SE 0.7637626158259733\n"
     ]
    }
   ],
   "source": [
    "#19\n",
    "pop = np.array(range(6)) + 1\n",
    "print('population', pop)\n",
    "mu = np.average(pop)\n",
    "print('mu', mu)\n",
    "sigma = (np.sum((pop-mu)**2)/6)**0.5\n",
    "print('sigma', sigma)\n",
    "SE = sigma / (5**0.5)\n",
    "print('SE', SE)\n"
   ]
  },
  {
   "cell_type": "code",
   "execution_count": 7,
   "metadata": {},
   "outputs": [
    {
     "name": "stdout",
     "output_type": "stream",
     "text": [
      "3.5240431325396684\n"
     ]
    }
   ],
   "source": [
    "#22\n",
    "print (7.88/(5**0.5))"
   ]
  },
  {
   "cell_type": "code",
   "execution_count": 8,
   "metadata": {},
   "outputs": [
    {
     "name": "stdout",
     "output_type": "stream",
     "text": [
      "1.5607754482948533\n"
     ]
    }
   ],
   "source": [
    "#24\n",
    "M = 11.25\n",
    "SE = print(3.49/(5**0.5))"
   ]
  },
  {
   "cell_type": "code",
   "execution_count": 9,
   "metadata": {},
   "outputs": [
    {
     "name": "stdout",
     "output_type": "stream",
     "text": [
      "population [25.10417915 60.9087471  23.22223768 ... 40.07894323 51.08500211\n",
      " 22.43009931]\n",
      "mu 37.71905483253817\n",
      "sigma 16.036658421715313\n",
      "SEM 2.7106900193481187\n",
      "z 0.8414629305383889\n",
      "p 0.7999556782261772\n",
      "1-p 0.2000443217738228\n"
     ]
    }
   ],
   "source": [
    "#27\n",
    "pop = pd.read_csv('./klout_scores.csv', header=None).as_matrix().flatten()\n",
    "print('population', pop)\n",
    "mu = np.average(pop)\n",
    "print('mu', mu)\n",
    "sigma = (np.sum((pop-mu)**2)/len(pop))**0.5\n",
    "print('sigma', sigma)\n",
    "\n",
    "# 28\n",
    "M = mu\n",
    "\n",
    "#29\n",
    "n=35\n",
    "SEM = sigma/n**0.5\n",
    "print('SEM', SEM)\n",
    "\n",
    "#32\n",
    "z = (40 - M) / SEM\n",
    "print('z', z)\n",
    "p = scipy.stats.norm(M, SEM).cdf(40)\n",
    "print('p', p)\n",
    "\n",
    "#33\n",
    "print ('1-p', 1-p)"
   ]
  },
  {
   "cell_type": "code",
   "execution_count": 10,
   "metadata": {},
   "outputs": [
    {
     "name": "stdout",
     "output_type": "stream",
     "text": [
      "SEM 1.0142473334148288\n",
      "z 2.248904278389579\n",
      "p 0.9877407066240886\n",
      "1-p 0.012259293375911362\n"
     ]
    }
   ],
   "source": [
    "#35\n",
    "n=250\n",
    "SEM = sigma/n**0.5\n",
    "print('SEM', SEM)\n",
    "\n",
    "#36\n",
    "z = (40 - M) / SEM\n",
    "print('z', z)\n",
    "\n",
    "#37\n",
    "p = scipy.stats.norm(M, SEM).cdf(40)\n",
    "print('p', p)\n",
    "print ('1-p', 1-p)"
   ]
  }
 ],
 "metadata": {
  "kernelspec": {
   "display_name": "Python 3",
   "language": "python",
   "name": "python3"
  },
  "language_info": {
   "codemirror_mode": {
    "name": "ipython",
    "version": 3
   },
   "file_extension": ".py",
   "mimetype": "text/x-python",
   "name": "python",
   "nbconvert_exporter": "python",
   "pygments_lexer": "ipython3",
   "version": "3.6.0"
  }
 },
 "nbformat": 4,
 "nbformat_minor": 2
}
