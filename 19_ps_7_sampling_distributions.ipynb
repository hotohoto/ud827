{
 "cells": [
  {
   "cell_type": "markdown",
   "metadata": {},
   "source": [
    "### 18 Sampling Distributions"
   ]
  },
  {
   "cell_type": "code",
   "execution_count": 1,
   "metadata": {},
   "outputs": [],
   "source": [
    "import scipy.stats\n",
    "import math\n",
    "import numpy as np\n",
    "import pandas as pd"
   ]
  },
  {
   "cell_type": "code",
   "execution_count": 10,
   "metadata": {},
   "outputs": [
    {
     "name": "stdout",
     "output_type": "stream",
     "text": [
      "[1.  2.  1.  0.5]\n"
     ]
    }
   ],
   "source": [
    "#7\n",
    "mu = 100\n",
    "sigma = 20\n",
    "n = np.array([25, 100, 100, 25])\n",
    "SEM = sigma / n**0.5\n",
    "M = mu\n",
    "x_bar = np.array([104, 104, 102, 102])\n",
    "z = (x_bar - M) / SEM\n",
    "print(z)"
   ]
  },
  {
   "cell_type": "code",
   "execution_count": 14,
   "metadata": {},
   "outputs": [
    {
     "name": "stdout",
     "output_type": "stream",
     "text": [
      "0.15865525393145707\n"
     ]
    }
   ],
   "source": [
    "#11\n",
    "mu = 100\n",
    "sigma = 20\n",
    "n = 4\n",
    "SE = sigma / n ** 0.5\n",
    "\n",
    "p = scipy.stats.norm(mu, SE).cdf(110)\n",
    "print(1-p)"
   ]
  },
  {
   "cell_type": "code",
   "execution_count": 16,
   "metadata": {},
   "outputs": [
    {
     "name": "stdout",
     "output_type": "stream",
     "text": [
      "0.006209665325776159\n"
     ]
    }
   ],
   "source": [
    "#12~14\n",
    "n = 25\n",
    "SE = sigma / n ** 0.5\n",
    "p = scipy.stats.norm(mu, SE).cdf(110)\n",
    "print(1-p)"
   ]
  },
  {
   "cell_type": "code",
   "execution_count": 22,
   "metadata": {},
   "outputs": [
    {
     "name": "stdout",
     "output_type": "stream",
     "text": [
      "mu 205.49295774647888\n",
      "sigma 237.7397602681943\n",
      "SEM 75.17991328298969\n"
     ]
    }
   ],
   "source": [
    "#18\n",
    "pop = pd.read_csv('./facebook_friends.csv', header=None).as_matrix().flatten()\n",
    "mu = np.average(pop)\n",
    "print('mu', mu)\n",
    "\n",
    "sigma = (np.sum((pop - mu)**2)/len(pop))**0.5\n",
    "print('sigma', sigma)\n",
    "\n",
    "SEM = sigma / 10 ** 0.5\n",
    "print('SEM', SEM)"
   ]
  },
  {
   "cell_type": "code",
   "execution_count": 23,
   "metadata": {},
   "outputs": [
    {
     "name": "stdout",
     "output_type": "stream",
     "text": [
      "225\n"
     ]
    }
   ],
   "source": [
    "#22\n",
    "print(25*9)"
   ]
  },
  {
   "cell_type": "code",
   "execution_count": null,
   "metadata": {},
   "outputs": [],
   "source": []
  }
 ],
 "metadata": {
  "kernelspec": {
   "display_name": "Python 3",
   "language": "python",
   "name": "python3"
  },
  "language_info": {
   "codemirror_mode": {
    "name": "ipython",
    "version": 3
   },
   "file_extension": ".py",
   "mimetype": "text/x-python",
   "name": "python",
   "nbconvert_exporter": "python",
   "pygments_lexer": "ipython3",
   "version": "3.6.0"
  }
 },
 "nbformat": 4,
 "nbformat_minor": 2
}
